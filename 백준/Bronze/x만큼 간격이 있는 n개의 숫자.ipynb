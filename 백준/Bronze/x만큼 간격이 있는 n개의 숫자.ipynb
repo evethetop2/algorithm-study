{
 "cells": [
  {
   "cell_type": "code",
   "execution_count": null,
   "metadata": {},
   "outputs": [],
   "source": [
    "# 문제\n",
    "# 함수 solution은 정수 x와 자연수 n을 입력 받아, x부터 시작해 x씩 증가하는 숫자를 n개 지니는 리스트를 리턴해야 합니다.\n",
    "# 다음 제한 조건을 보고, 조건을 만족하는 함수, solution을 완성해주세요."
   ]
  },
  {
   "cell_type": "code",
   "execution_count": 1,
   "metadata": {},
   "outputs": [],
   "source": [
    "def solution(x, n):\n",
    "  answer = []\n",
    "  if x>0:\n",
    "    for i in range(x, n*x+1, x):\n",
    "      answer.append(i)\n",
    "  elif x<0:\n",
    "    for i in range(x, n*x-1, x):\n",
    "      answer.append(i)\n",
    "  else:\n",
    "    for i in range(n):\n",
    "      answer.append(0)\n",
    "  return answer"
   ]
  }
 ],
 "metadata": {
  "kernelspec": {
   "display_name": "Python 3.8.8 ('base')",
   "language": "python",
   "name": "python3"
  },
  "language_info": {
   "codemirror_mode": {
    "name": "ipython",
    "version": 3
   },
   "file_extension": ".py",
   "mimetype": "text/x-python",
   "name": "python",
   "nbconvert_exporter": "python",
   "pygments_lexer": "ipython3",
   "version": "3.8.8"
  },
  "orig_nbformat": 4,
  "vscode": {
   "interpreter": {
    "hash": "48cfc0c75b54e3dc3460698524769dd419c675b46f7d6a51770dfbe5ef4fe99c"
   }
  }
 },
 "nbformat": 4,
 "nbformat_minor": 2
}
