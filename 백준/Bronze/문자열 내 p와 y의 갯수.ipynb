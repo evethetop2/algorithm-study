{
 "cells": [
  {
   "cell_type": "code",
   "execution_count": null,
   "metadata": {},
   "outputs": [],
   "source": [
    "# 문제\n",
    "# 대문자와 소문자가 섞여있는 문자열 s가 주어집니다. s에 'p'의 개수와 'y'의 개수를 비교해 같으면 True, 다르면 False를 return 하는 solution를 완성하세요. \n",
    "# 'p', 'y' 모두 하나도 없는 경우는 항상 True를 리턴합니다.\n",
    "# 단, 개수를 비교할 때 대문자와 소문자는 구별하지 않습니다."
   ]
  },
  {
   "cell_type": "code",
   "execution_count": null,
   "metadata": {},
   "outputs": [],
   "source": [
    "def solution(s):\n",
    "    s1 = [i for i in s if 'p' in i.lower()]\n",
    "    s2 = [i for i in s if 'y' in i.lower()]\n",
    "    if len(s1) == len(s2):\n",
    "      return True\n",
    "    return False"
   ]
  }
 ],
 "metadata": {
  "kernelspec": {
   "display_name": "Python 3.8.8 ('base')",
   "language": "python",
   "name": "python3"
  },
  "language_info": {
   "name": "python",
   "version": "3.8.8"
  },
  "orig_nbformat": 4,
  "vscode": {
   "interpreter": {
    "hash": "48cfc0c75b54e3dc3460698524769dd419c675b46f7d6a51770dfbe5ef4fe99c"
   }
  }
 },
 "nbformat": 4,
 "nbformat_minor": 2
}
