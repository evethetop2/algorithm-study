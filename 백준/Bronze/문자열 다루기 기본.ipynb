{
 "cells": [
  {
   "cell_type": "code",
   "execution_count": null,
   "metadata": {},
   "outputs": [],
   "source": [
    "# 문제\n",
    "# 문자열 s의 길이가 4 혹은 6이고, 숫자로만 구성돼있는지 확인해주는 함수, solution을 완성하세요. \n",
    "# 예를 들어 s가 \"a234\"이면 False를 리턴하고 \"1234\"라면 True를 리턴하면 됩니다."
   ]
  },
  {
   "cell_type": "code",
   "execution_count": 55,
   "metadata": {},
   "outputs": [
    {
     "data": {
      "text/plain": [
       "True"
      ]
     },
     "execution_count": 55,
     "metadata": {},
     "output_type": "execute_result"
    }
   ],
   "source": [
    "# 답\n",
    "def solution(s):\n",
    "        if ((len(s) == 4) or (len(s) == 6)) and s.isdigit()==True:\n",
    "            return True\n",
    "        return False\n",
    "solution('212352')"
   ]
  },
  {
   "cell_type": "code",
   "execution_count": 53,
   "metadata": {},
   "outputs": [
    {
     "name": "stdout",
     "output_type": "stream",
     "text": [
      "True\n"
     ]
    }
   ],
   "source": [
    "# 이거도 답이긴한데..\n",
    "def solution(s):\n",
    "    try:\n",
    "        if ((len(s) == 4) or (len(s) == 6)) and (int(s)):\n",
    "            return True            \n",
    "    except:\n",
    "        return False\n",
    "    "
   ]
  },
  {
   "cell_type": "code",
   "execution_count": null,
   "metadata": {},
   "outputs": [],
   "source": [
    "\n",
    "import schedule\n",
    "import time\n",
    "from datetime import datetime\n",
    "import pyautogui\n",
    "from playsound import playsound\n",
    "\n",
    "# pip install pyautogui\n",
    "# pip install playsound\n",
    "def job():\n",
    "    now = datetime.now()\n",
    "    playsound(\"sound1.mp3\")  # sound1.mp3에 따라 '띠리링' 소리가 나면\n",
    "    time.sleep(10)\n",
    "    print(\"[작업 수행 시각] {:%H:%M:%S}\".format(now)) # 커맨드 창에 동작 수행시간 출력 후\n",
    "    if now.hour < 13:\n",
    "        pyautogui.screenshot(\"{:%Y%m%d}-김연지-오전-{:%H_%M}\".format(now,now)+\".png\") # 선생님 이름으로 바꿔주세요\n",
    "                                                    # 전체 화면이 캡처됩니다. \n",
    "    else:\n",
    "        pyautogui.screenshot(\"{:%Y%m%d}-김연지-오후-{:%H_%M}\".format(now,now)+\".png\") \n",
    "\n",
    "\n",
    "\n",
    "schedule.every().day.at(\"09:05\").do(job)\n",
    "schedule.every().day.at(\"09:50\").do(job)\n",
    "\n",
    "schedule.every().day.at(\"10:05\").do(job)\n",
    "schedule.every().day.at(\"10:50\").do(job)\n",
    "\n",
    "schedule.every().day.at(\"11:05\").do(job)\n",
    "schedule.every().day.at(\"11:50\").do(job)\n",
    "\n",
    "schedule.every().day.at(\"12:05\").do(job)\n",
    "schedule.every().day.at(\"12:50\").do(job)\n",
    "\n",
    "schedule.every().day.at(\"14:05\").do(job)\n",
    "schedule.every().day.at(\"14:50\").do(job)\n",
    "\n",
    "schedule.every().day.at(\"15:05\").do(job)\n",
    "schedule.every().day.at(\"15:50\").do(job)\n",
    "\n",
    "schedule.every().day.at(\"16:05\").do(job)\n",
    "schedule.every().day.at(\"16:50\").do(job)\n",
    "\n",
    "schedule.every().day.at(\"17:05\").do(job)\n",
    "schedule.every().day.at(\"17:50\").do(job)\n",
    "\n",
    "while True:\n",
    "    try:\n",
    "        schedule.run_pending()\n",
    "        time.sleep(1)\n",
    "    except Exception as e:\n",
    "        print(\"작업 강제 종료\", e)\n",
    "        schedule.clear()         \n",
    "        break            "
   ]
  }
 ],
 "metadata": {
  "kernelspec": {
   "display_name": "Python 3.8.8 ('base')",
   "language": "python",
   "name": "python3"
  },
  "language_info": {
   "codemirror_mode": {
    "name": "ipython",
    "version": 3
   },
   "file_extension": ".py",
   "mimetype": "text/x-python",
   "name": "python",
   "nbconvert_exporter": "python",
   "pygments_lexer": "ipython3",
   "version": "3.8.8"
  },
  "orig_nbformat": 4,
  "vscode": {
   "interpreter": {
    "hash": "48cfc0c75b54e3dc3460698524769dd419c675b46f7d6a51770dfbe5ef4fe99c"
   }
  }
 },
 "nbformat": 4,
 "nbformat_minor": 2
}
